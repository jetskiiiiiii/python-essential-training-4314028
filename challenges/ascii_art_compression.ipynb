{
 "cells": [
  {
   "attachments": {},
   "cell_type": "markdown",
   "id": "5ecfaeb8",
   "metadata": {},
   "source": [
    "## ASCII Art Compression\n",
    "\n",
    "- takes a file and converts it to 'N' (for new line), 'S' (for space), characters (assuming no characters are N or S) and counts occurance of each value\n",
    "- decode the newly compressed file by reversing the encoding values and multiplying each value by the occurance"
   ]
  },
  {
   "cell_type": "code",
   "execution_count": 1,
   "id": "0ec1174a",
   "metadata": {},
   "outputs": [],
   "source": [
    "import os"
   ]
  },
  {
   "cell_type": "code",
   "execution_count": 2,
   "id": "9419d4f1",
   "metadata": {},
   "outputs": [],
   "source": [
    "def encodeFile(filename, newFilename):\n",
    "    with open(filename, 'r') as file:\n",
    "        lines = file.readlines()\n",
    "    \n",
    "    \n",
    "    with open(newFilename, 'w') as file:\n",
    "        prev_char = lines[0][0]\n",
    "        count = 0\n",
    "        for line in lines:\n",
    "            for character in line:\n",
    "                if character == prev_char:\n",
    "                    count += 1\n",
    "                else:\n",
    "                    input = 'S' if prev_char == ' ' else 'N' if prev_char == '\\n' else prev_char\n",
    "                    file.write(f\"{input}{count}\")\n",
    "                    prev_char = character\n",
    "                    count = 1\n",
    "\n",
    "def decodeFile(filename, newFilename):\n",
    "    with open(filename, 'r') as file:\n",
    "        encoding = file.readline()\n",
    "        \n",
    "    decoded_string = ''\n",
    "    curr_char = encoding[0]\n",
    "    count = \"0\"\n",
    "    decodings = {'N': '\\n', 'S': \" \"}\n",
    "    for character in encoding[1:]:\n",
    "        if character.isdigit():\n",
    "            count += f\"{character}\"\n",
    "        elif curr_char in decodings.keys():\n",
    "            decoded_string += decodings[curr_char] * int(count)\n",
    "            curr_char = character\n",
    "            count = \"0\"\n",
    "        else:\n",
    "            decoded_string += curr_char * int(count)\n",
    "            curr_char = character\n",
    "            count = \"0\"\n",
    "    \n",
    "    if curr_char in decodings.keys():\n",
    "            decoded_string += decodings[curr_char] * int(count)\n",
    "    else:\n",
    "        decoded_string += curr_char * count\n",
    "        \n",
    "    with open(newFilename, 'w') as file:\n",
    "            file.write(decoded_string)\n"
   ]
  },
  {
   "cell_type": "code",
   "execution_count": 3,
   "id": "8cd8b96d",
   "metadata": {},
   "outputs": [
    {
     "name": "stdout",
     "output_type": "stream",
     "text": [
      "Original file size: 2757\n",
      "New file size: 540\n"
     ]
    }
   ],
   "source": [
    "print(f'Original file size: {os.path.getsize(\"ascii_art.txt\")}')\n",
    "\n",
    "encodeFile('ascii_art_compression.txt', 'ascii_art_encoded.txt')\n",
    "\n",
    "print(f'New file size: {os.path.getsize(\"ascii_art_encoded.txt\")}')\n"
   ]
  },
  {
   "cell_type": "code",
   "execution_count": 4,
   "id": "92945907",
   "metadata": {},
   "outputs": [],
   "source": [
    "decodeFile('ascii_art_encoded.txt', 'ascii_art_decoded.txt')"
   ]
  }
 ],
 "metadata": {
  "kernelspec": {
   "display_name": "Python 3 (ipykernel)",
   "language": "python",
   "name": "python3"
  },
  "language_info": {
   "codemirror_mode": {
    "name": "ipython",
    "version": 3
   },
   "file_extension": ".py",
   "mimetype": "text/x-python",
   "name": "python",
   "nbconvert_exporter": "python",
   "pygments_lexer": "ipython3",
   "version": "3.10.6"
  }
 },
 "nbformat": 4,
 "nbformat_minor": 5
}
