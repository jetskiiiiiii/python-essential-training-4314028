{
 "cells": [
  {
   "cell_type": "code",
   "execution_count": 1,
   "id": "48a15793",
   "metadata": {
    "scrolled": true
   },
   "outputs": [],
   "source": [
    "import threading\n",
    "import time"
   ]
  },
  {
   "cell_type": "markdown",
   "id": "5be113b0",
   "metadata": {},
   "source": [
    "## Threads"
   ]
  },
  {
   "cell_type": "code",
   "execution_count": 2,
   "id": "230c796a",
   "metadata": {
    "scrolled": true
   },
   "outputs": [
    {
     "data": {
      "text/plain": [
       "[0, 1, 4, 9, 16]"
      ]
     },
     "execution_count": 2,
     "metadata": {},
     "output_type": "execute_result"
    }
   ],
   "source": [
    "def longSquare(num):\n",
    "    time.sleep(1)\n",
    "    return num**2\n",
    "\n",
    "[longSquare(n) for n in range(0, 5)]\n"
   ]
  },
  {
   "cell_type": "code",
   "execution_count": 3,
   "id": "f105891d",
   "metadata": {},
   "outputs": [],
   "source": [
    "t1 = threading.Thread(target=longSquare, args=(1,))\n",
    "t2 = threading.Thread(target=longSquare, args=(2,))\n",
    "\n",
    "t1.start()\n",
    "t2.start()\n",
    "\n",
    "t1.join()\n",
    "t2.join()\n"
   ]
  },
  {
   "cell_type": "code",
   "execution_count": 4,
   "id": "5be33021",
   "metadata": {},
   "outputs": [
    {
     "name": "stdout",
     "output_type": "stream",
     "text": [
      "{1: 1, 2: 4}\n"
     ]
    }
   ],
   "source": [
    "def longSquare(num, results):\n",
    "    time.sleep(1)\n",
    "    results[num] = num**2\n",
    "\n",
    "results = {}\n",
    "t1 = threading.Thread(target=longSquare, args=(1,results))\n",
    "t2 = threading.Thread(target=longSquare, args=(2,results))\n",
    "\n",
    "t1.start()\n",
    "t2.start()\n",
    "\n",
    "t1.join()\n",
    "t2.join()\n",
    "\n",
    "print(results)\n"
   ]
  },
  {
   "cell_type": "code",
   "execution_count": 5,
   "id": "6f9a6201",
   "metadata": {},
   "outputs": [
    {
     "name": "stdout",
     "output_type": "stream",
     "text": [
      "{0: 0, 2: 4, 3: 9, 5: 25, 12: 144, 21: 441, 8: 64, 10: 100, 11: 121, 9: 81, 27: 729, 4: 16, 14: 196, 6: 36, 15: 225, 16: 256, 17: 289, 18: 324, 13: 169, 20: 400, 19: 361, 22: 484, 7: 49, 29: 841, 36: 1296, 41: 1681, 26: 676, 1: 1, 28: 784, 23: 529, 32: 1024, 35: 1225, 38: 1444, 34: 1156, 37: 1369, 24: 576, 25: 625, 30: 900, 31: 961, 40: 1600, 39: 1521, 33: 1089, 42: 1764, 44: 1936, 45: 2025, 46: 2116, 43: 1849, 47: 2209, 48: 2304, 63: 3969, 52: 2704, 65: 4225, 61: 3721, 64: 4096, 66: 4356, 67: 4489, 68: 4624, 70: 4900, 51: 2601, 57: 3249, 53: 2809, 50: 2500, 62: 3844, 69: 4761, 59: 3481, 55: 3025, 56: 3136, 58: 3364, 49: 2401, 72: 5184, 60: 3600, 71: 5041, 54: 2916, 73: 5329, 85: 7225, 77: 5929, 78: 6084, 80: 6400, 82: 6724, 87: 7569, 88: 7744, 91: 8281, 90: 8100, 95: 9025, 96: 9216, 94: 8836, 79: 6241, 75: 5625, 81: 6561, 89: 7921, 93: 8649, 74: 5476, 86: 7396, 92: 8464, 76: 5776, 83: 6889, 84: 7056, 98: 9604, 97: 9409, 99: 9801}\n"
     ]
    }
   ],
   "source": [
    "def longSquare(num, results):\n",
    "    time.sleep(1)\n",
    "    results[num] = num**2\n",
    "\n",
    "results = {}\n",
    "threads = [threading.Thread(target=longSquare, args=(n, results)) for n in range(0, 100)]\n",
    "[t.start() for t in threads]\n",
    "[t.join() for t in threads]\n",
    "print(results)"
   ]
  },
  {
   "cell_type": "code",
   "execution_count": null,
   "id": "c63a0969",
   "metadata": {},
   "outputs": [],
   "source": []
  }
 ],
 "metadata": {
  "kernelspec": {
   "display_name": "Python 3 (ipykernel)",
   "language": "python",
   "name": "python3"
  },
  "language_info": {
   "codemirror_mode": {
    "name": "ipython",
    "version": 3
   },
   "file_extension": ".py",
   "mimetype": "text/x-python",
   "name": "python",
   "nbconvert_exporter": "python",
   "pygments_lexer": "ipython3",
   "version": "3.10.6"
  }
 },
 "nbformat": 4,
 "nbformat_minor": 5
}
